{
 "cells": [
  {
   "cell_type": "markdown",
   "metadata": {},
   "source": [
    "## Data analysis workflow"
   ]
  },
  {
   "cell_type": "markdown",
   "metadata": {},
   "source": [
    "#### Download fastq files from ENA database"
   ]
  },
  {
   "cell_type": "code",
   "execution_count": 3,
   "metadata": {
    "scrolled": true
   },
   "outputs": [
    {
     "name": "stdout",
     "output_type": "stream",
     "text": [
      "--2019-03-28 14:48:16--  ftp://ftp.sra.ebi.ac.uk/vol1/fastq/SRR039/SRR039381/SRR039381.fastq.gz\n",
      "           => “/home/kwanjau/tbrucei_gcn/data/raw_data/SRR039381.fastq.gz”\n",
      "Resolving ftp.sra.ebi.ac.uk... 193.62.192.7\n",
      "Connecting to ftp.sra.ebi.ac.uk|193.62.192.7|:21... connected.\n",
      "Logging in as anonymous ... Logged in!\n",
      "==> SYST ... done.    ==> PWD ... done.\n",
      "==> TYPE I ... done.  ==> CWD (1) /vol1/fastq/SRR039/SRR039381 ... done.\n",
      "==> SIZE SRR039381.fastq.gz ... 1214773718\n",
      "==> PASV ... done.    ==> RETR SRR039381.fastq.gz ... done.\n",
      "Length: 1214773718 (1.1G) (unauthoritative)\n",
      "\n",
      "100%[====================================>] 1,214,773,718 1.97M/s   in 21m 43s \n",
      "\n",
      "2019-03-28 15:10:03 (911 KB/s) - “/home/kwanjau/tbrucei_gcn/data/raw_data/SRR039381.fastq.gz” saved [1214773718]\n",
      "\n"
     ]
    }
   ],
   "source": [
    "!bash ../scripts/fastq-download.sh ../data/raw_data/fastq.url_re-download.txt"
   ]
  },
  {
   "cell_type": "markdown",
   "metadata": {},
   "source": [
    "#### Decompressing fastq.gz files"
   ]
  },
  {
   "cell_type": "code",
   "execution_count": 4,
   "metadata": {},
   "outputs": [],
   "source": [
    "!bash /home/kwanjau/tbrucei_gcn/scripts/unzip.sh"
   ]
  },
  {
   "cell_type": "markdown",
   "metadata": {},
   "source": [
    "#### Checking data integrity"
   ]
  },
  {
   "cell_type": "code",
   "execution_count": 20,
   "metadata": {},
   "outputs": [
    {
     "name": "stdout",
     "output_type": "stream",
     "text": [
      "./SRR039378.fastq: OK\n",
      "./SRR039381.fastq: OK\n",
      "./SRR039453.fastq: OK\n",
      "./SRR039454.fastq: OK\n",
      "./SRR039455.fastq: OK\n",
      "./SRR039456.fastq: OK\n",
      "./SRR039457.fastq: OK\n",
      "./SRR039937.fastq: OK\n",
      "./SRR039938.fastq: OK\n",
      "./SRR039939.fastq: OK\n",
      "./SRR039940.fastq: OK\n",
      "./SRR039948.fastq: OK\n",
      "./SRR039949.fastq: OK\n",
      "./SRR039950.fastq: OK\n",
      "./SRR039951.fastq: OK\n",
      "./SRR039952.fastq: OK\n",
      "./SRR042429.fastq: OK\n",
      "shasum: SRR039378.fastq: no properly formatted SHA1 checksum lines found\n",
      "./SRR039378.fastq: OK\n",
      "./SRR039381.fastq: OK\n",
      "./SRR039453.fastq: OK\n",
      "./SRR039454.fastq: OK\n",
      "./SRR039455.fastq: OK\n",
      "./SRR039456.fastq: OK\n",
      "./SRR039457.fastq: OK\n",
      "./SRR039937.fastq: OK\n",
      "./SRR039938.fastq: OK\n",
      "./SRR039939.fastq: OK\n",
      "./SRR039940.fastq: OK\n",
      "^C\n"
     ]
    }
   ],
   "source": [
    "!cd ../data/raw_data/ && ls *.fastq |xargs -n1 shasum -c fastq_checksums.sha"
   ]
  },
  {
   "cell_type": "markdown",
   "metadata": {},
   "source": [
    "#### Generating FastQC reports"
   ]
  },
  {
   "cell_type": "code",
   "execution_count": null,
   "metadata": {},
   "outputs": [],
   "source": [
    "# %load /home/kwanjau/tbrucei_gcn/scripts/analyze_fastqc.sh\n",
    "#/bin/bash\n",
    "#\n",
    "#Script to run FastQC reports using the FastQC too\n",
    "#Written on March 28, 2019 by Kennedy Mwangi\n",
    "#\n",
    "DATA_DIR=~/tbrucei_gcn/data/raw_data/*.fastq\n",
    "mkdir -p ~/tbrucei_gcn/results/fastqc_reports #create output directory if it doesn't exist.\n",
    "\n",
    "REPORTS_DIR=~/tbrucei_gcn/results/fastqc_reports/\n",
    "\n",
    "#load fastqc module.\n",
    "module load fastqc\n",
    "\n",
    "for file in ${DATA_DIR}; do\n",
    "   fastqc -f fastq -o ${REPORTS_DIR} ${file}\n",
    "done\n"
   ]
  },
  {
   "cell_type": "markdown",
   "metadata": {},
   "source": [
    "#### Downloading T. brucei genome and GFF files from TriTryDB"
   ]
  },
  {
   "cell_type": "code",
   "execution_count": 5,
   "metadata": {},
   "outputs": [
    {
     "name": "stdout",
     "output_type": "stream",
     "text": [
      "--2019-03-29 12:27:05--  https://tritrypdb.org/common/downloads/release-42/TbruceiTREU927/gff/data/TriTrypDB-42_TbruceiTREU927.gff\n",
      "Resolving tritrypdb.org... 128.192.75.73\n",
      "Connecting to tritrypdb.org|128.192.75.73|:443... connected.\n",
      "HTTP request sent, awaiting response... 200 OK\n",
      "Length: 8362915 (8.0M) [application/x-gff]\n",
      "Saving to: “/home/kwanjau/tbrucei_gcn/data/genome_annotations_GFF/TriTrypDB-42_TbruceiTREU927.gff”\n",
      "\n",
      "100%[======================================>] 8,362,915    253K/s   in 26s     \n",
      "\n",
      "2019-03-29 12:27:37 (317 KB/s) - “/home/kwanjau/tbrucei_gcn/data/genome_annotations_GFF/TriTrypDB-42_TbruceiTREU927.gff” saved [8362915/8362915]\n",
      "\n"
     ]
    }
   ],
   "source": [
    "#Downloading the Genome\n",
    "!wget https://tritrypdb.org/common/downloads/release-42/TbruceiTREU927/gff/data/TriTrypDB-42_TbruceiTREU927.gff -P /home/kwanjau/tbrucei_gcn/data/genome_annotations_GFF/"
   ]
  },
  {
   "cell_type": "code",
   "execution_count": 6,
   "metadata": {},
   "outputs": [
    {
     "name": "stdout",
     "output_type": "stream",
     "text": [
      "--2019-03-29 12:29:36--  https://tritrypdb.org/common/downloads/release-42/TbruceiTREU927/fasta/data/TriTrypDB-42_TbruceiTREU927_Genome.fasta\n",
      "Resolving tritrypdb.org... 128.192.75.73\n",
      "Connecting to tritrypdb.org|128.192.75.73|:443... connected.\n",
      "HTTP request sent, awaiting response... 200 OK\n",
      "Length: 36438354 (35M) [application/x-fasta]\n",
      "Saving to: “/home/kwanjau/tbrucei_gcn/data/tbrucei_genome/TriTrypDB-42_TbruceiTREU927_Genome.fasta”\n",
      "\n",
      "100%[======================================>] 36,438,354   600K/s   in 52s     \n",
      "\n",
      "2019-03-29 12:30:34 (678 KB/s) - “/home/kwanjau/tbrucei_gcn/data/tbrucei_genome/TriTrypDB-42_TbruceiTREU927_Genome.fasta” saved [36438354/36438354]\n",
      "\n"
     ]
    }
   ],
   "source": [
    "#Downloading the GFF files\n",
    "!wget https://tritrypdb.org/common/downloads/release-42/TbruceiTREU927/fasta/data/TriTrypDB-42_TbruceiTREU927_Genome.fasta -P /home/kwanjau/tbrucei_gcn/data/tbrucei_genome/"
   ]
  },
  {
   "cell_type": "markdown",
   "metadata": {},
   "source": [
    "#### Genome Indexing using STAR"
   ]
  },
  {
   "cell_type": "code",
   "execution_count": null,
   "metadata": {},
   "outputs": [],
   "source": [
    "#!bash ../scripts/STAR_genome_index.sh ../data/tbrucei_genome/TriTrypDB-42_TbruceiTREU927_Genome.fasta ../data/genome_annotations_GFF/TriTrypDB-42_TbruceiTREU927.gff"
   ]
  },
  {
   "cell_type": "markdown",
   "metadata": {},
   "source": [
    "#### Alignment of reads to T. brucei (indexed) genome"
   ]
  },
  {
   "cell_type": "code",
   "execution_count": null,
   "metadata": {},
   "outputs": [],
   "source": [
    "#!bash ../scripts/STAR_align.sh ../data/STAR_genome/"
   ]
  }
 ],
 "metadata": {
  "kernelspec": {
   "display_name": "Python 3",
   "language": "python",
   "name": "python3"
  },
  "language_info": {
   "codemirror_mode": {
    "name": "ipython",
    "version": 3
   },
   "file_extension": ".py",
   "mimetype": "text/x-python",
   "name": "python",
   "nbconvert_exporter": "python",
   "pygments_lexer": "ipython3",
   "version": "3.6.4"
  }
 },
 "nbformat": 4,
 "nbformat_minor": 2
}
